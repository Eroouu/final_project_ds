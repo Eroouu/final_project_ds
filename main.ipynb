{
 "cells": [
  {
   "cell_type": "code",
   "execution_count": null,
   "id": "5396fb0a",
   "metadata": {},
   "outputs": [],
   "source": [
    "print('Привет ребята из Python!')"
   ]
  }
 ],
 "metadata": {
  "language_info": {
   "name": "python"
  }
 },
 "nbformat": 4,
 "nbformat_minor": 5
}
